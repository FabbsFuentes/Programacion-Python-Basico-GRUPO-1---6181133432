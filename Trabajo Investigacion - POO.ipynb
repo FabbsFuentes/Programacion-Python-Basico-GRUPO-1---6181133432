{
 "cells": [
  {
   "cell_type": "markdown",
   "metadata": {},
   "source": [
    " # Funciones en Python en el Desarrollo de Software\n",
    " ## Fabian Alpizar Fuentes\n",
    " ### Profesor:Andres Mena\n",
    " "
   ]
  },
  {
   "cell_type": "markdown",
   "metadata": {},
   "source": [
    "### Introduccion\n",
    "En este trabajo de investigacion basado en las funciones en Python en el Desarrollo de Funciones en Python en el Desarrollo de Software explicaremos la importancia de las funciones y asi mismo daremos a enteder y demostrar como darle utilidad a las notebook en cual vamos a interactuar.\n",
    "\n",
    "Una notebook es generalmente referida a herramientas como Jupyter Notebook , esta tiene una gran importancia en el area de desarrollo de proyectos y analisis de datos. Una notebook cuenta con una funcion de celdas de texto estas permiten integrar explicaciones y documentación junto con el código. Esto ayuda a crear un flujo de trabajo más claro y comprensible, ya que puedes documentar el propósito de cada bloque de código, las hipótesis, los resultados esperados y las conclusiones, lo que facilita la colaboración y la comprensión del proceso\n",
    "\n",
    "Phyon se ha consolidado como uno de los lenguajes de programación más populares debido a su simplicidad, versatilidad. Las funciones en Phyton es de las caracteristica mas importantes del lenguaje debido a que su uso permite dividir un programa en bloques de código más pequeños y manejables. Cada función puede encargarse de una tarea específica, lo que mejora la modularidad y reutilizacion de codigo lo que hace facil comprenderlo.\n",
    "\n",
    "Las funciones son esenciales para crear un codigo además, el uso de funciones facilita el mantenimiento al permitir modificaciones sin afectar otras partes del código, y optimiza la depuración, ya que se pueden probar de forma independiente. Otra funcionn es que aumenta la flexibilidad al recibir parámetros y devolver resultados, lo que las hace adaptables a diferentes contextos.\n"
   ]
  },
  {
   "cell_type": "markdown",
   "metadata": {},
   "source": [
    "# Investigacion\n",
    "### ¿Qué son las funciones? \n",
    "Las funciones en Python son bloques de código reutilizables que realizan una tarea específica. Permiten organizar y estructurar el código de manera más eficiente y legible\n",
    "Siendo estructuras esenciales del código, las funciones permiten definir un bloque de código reutilizable que se puede ejecutar muchas veces dentro de un programa. Se trata de una estructura que agrupa partes del código creando soluciones modulares para problemas complejos.\n",
    "\n",
    "Las funciones en Python cumplen objetivos específicos definidos por el usuario o por el lenguaje. Reciben como parámetros datos de entrada llamados argumentos, que se indica por el usuario o por defecto, los procesan y devuelven datos de salida, un ejemplo seria:\n"
   ]
  },
  {
   "cell_type": "code",
   "execution_count": 4,
   "metadata": {},
   "outputs": [],
   "source": [
    "def sumar(a, b):\n",
    "    resultado = a + b\n",
    "    return resultado"
   ]
  },
  {
   "cell_type": "markdown",
   "metadata": {},
   "source": [
    "### Beneficios de modularizar código con funciones. \n",
    "La modularidad en programación es un concepto fundamental. Se refiere a la práctica de dividir un programa en módulos más pequeños y manejables, cada uno con funciones y responsabilidades bien definidas. En otras palabras, se trata de descomponer un programa en partes más pequeñas y fáciles de gestionar, en lugar de tener un código gigantesco y monolítico\n",
    "beneficios de modularizar el código con funciones son:\n",
    "\n",
    "- Facilita la comprensión y desarrollo del código al dividir un problema grande en subproblemas más manejables.\n",
    "- Fomenta la reutilización de código al utilizar funciones.\n",
    "- Mayor facilidad de mantenimiento al dividir el código en módulos o funciones independientes.\n",
    "- Mayor facilidad de comprensión al reducir el tamaño del programa.\n",
    "- Reutilización de código al permitir que los módulos sean reutilizados en otros programas.\n",
    "- Facilita la organización y el mantenimiento del código al dividirlo en unidades independientes\n",
    "\n",
    "### Importancia de la reutilización del código. \n",
    "\n",
    "Reutilización de código hace referencia al uso de piezas de código ya escritas y probadas en programas informáticos para crear sistemas eficientes y confiables en el desarrollo de software. Esta práctica es muy importante por que permite a los desarrolladores ahorrar tiempo y reducir el esfuerzo para completar un proyecto lo que resulta en ahorros significativos, trata de reutilizar partes ya existes.\n",
    "\n",
    "### ¿Por qué la reutilización de código es importante en el desarrollo de software?\n",
    "- Rentabilidad: La reutilización del código también puede ahorrarle dinero porque, por lo general, es menos costoso.\n",
    "- Mejor organización: El código bien estructurado puede ayudar a mejorar la organización del sistema al permitir que diferentes partes de un proyecto se reutilicen juntas, lo que significa que podría llegar a reutilizar módulos completos.\n",
    "- Calidad y confiabilidad mejoradas: cuando se reutiliza el código, ya se ha probado y se ha demostrado que funciona. Como tal, reduce las posibilidades de que sus desarrolladores introduzcan errores en su programa.\n",
    "- Reducción de tiempo y esfuerzo: Reutilizar el código puede ahorrarle tiempo y esfuerzo, porque si el código ya existe, no tiene que desarrollar su programa desde cero."
   ]
  },
  {
   "cell_type": "markdown",
   "metadata": {},
   "source": [
    "# Tipos de Funciones en Python \n",
    "## 1-Funciones con y sin retorno. \n",
    "Funciones con retorno: Son aquellas que devuelven un valor al finalizar su ejecución."
   ]
  },
  {
   "cell_type": "code",
   "execution_count": 1,
   "metadata": {},
   "outputs": [
    {
     "name": "stdout",
     "output_type": "stream",
     "text": [
      "8\n"
     ]
    }
   ],
   "source": [
    "def suma(a, b):\n",
    "    return a + b\n",
    "\n",
    "resultado = suma(3, 5)\n",
    "print(resultado)  # Salida: 8\n"
   ]
  },
  {
   "cell_type": "markdown",
   "metadata": {},
   "source": [
    "Funciones sin retorno: No devuelven ningún valor explícito; su propósito es realizar una acción."
   ]
  },
  {
   "cell_type": "code",
   "execution_count": null,
   "metadata": {},
   "outputs": [],
   "source": [
    "def imprimir_mensaje():\n",
    "    print(\"¡Hola, mundo!\")\n",
    "\n",
    "imprimir_mensaje()  # Salida: ¡Hola, mundo!"
   ]
  },
  {
   "cell_type": "markdown",
   "metadata": {},
   "source": [
    "## 2-Funciones con parámetros y valores predeterminados\n",
    "\n",
    "Las funciones pueden tener parámetros con valores predeterminados, que se utilizan si no se proporcionan argumentos al llamarlas."
   ]
  },
  {
   "cell_type": "code",
   "execution_count": null,
   "metadata": {},
   "outputs": [],
   "source": [
    "def saludar(nombre=\"Invitado\"):\n",
    "    print(f\"Hola, {nombre}!\")\n",
    "\n",
    "saludar()           # Salida: Hola, Invitado!\n",
    "saludar(\"Carlos\")   # Salida: Hola, Carlos!"
   ]
  },
  {
   "cell_type": "markdown",
   "metadata": {},
   "source": [
    "## 3-Uso de *args y **kwargs\n",
    "Args: Permite pasar un número variable de argumentos posicionales a una función."
   ]
  },
  {
   "cell_type": "code",
   "execution_count": null,
   "metadata": {},
   "outputs": [],
   "source": [
    "def sumar(*args):\n",
    "    return sum(args)\n",
    "\n",
    "resultado = sumar(1, 2, 3, 4)\n",
    "print(resultado)  # Salida: 10"
   ]
  },
  {
   "cell_type": "markdown",
   "metadata": {},
   "source": [
    "kwargs: Permite pasar un número variable de argumentos nombrados a una función."
   ]
  },
  {
   "cell_type": "code",
   "execution_count": null,
   "metadata": {},
   "outputs": [],
   "source": [
    "def mostrar_info(**kwargs):\n",
    "    for clave, valor in kwargs.items():\n",
    "        print(f\"{clave}: {valor}\")\n",
    "\n",
    "mostrar_info(nombre=\"Ana\", edad=30)\n",
    "# Salida:\n",
    "# nombre: Ana\n",
    "# edad: 30"
   ]
  },
  {
   "cell_type": "markdown",
   "metadata": {},
   "source": [
    "## 4-Funciones anónimas (lambda)\n",
    "Las funciones lambda son funciones pequeñas y anónimas definidas con la palabra clave lambda."
   ]
  },
  {
   "cell_type": "code",
   "execution_count": null,
   "metadata": {},
   "outputs": [],
   "source": [
    "multiplicar = lambda x, y: x * y\n",
    "\n",
    "resultado = multiplicar(4, 5)\n",
    "print(resultado)  # Salida: 20"
   ]
  },
  {
   "cell_type": "markdown",
   "metadata": {},
   "source": [
    "## 5-Funciones recursivas\n",
    "Una función recursiva es aquella que se llama a sí misma para resolver un problema."
   ]
  },
  {
   "cell_type": "code",
   "execution_count": null,
   "metadata": {},
   "outputs": [],
   "source": [
    "def factorial(n):\n",
    "    if n == 0:\n",
    "        return 1\n",
    "    else:\n",
    "        return n * factorial(n - 1)\n",
    "\n",
    "resultado = factorial(5)\n",
    "print(resultado)  # Salida: 120"
   ]
  },
  {
   "cell_type": "markdown",
   "metadata": {},
   "source": [
    "## 6-Generadores (yield)\n",
    "Los generadores son funciones que devuelven un iterador y se definen con la palabra clave yield."
   ]
  },
  {
   "cell_type": "code",
   "execution_count": null,
   "metadata": {},
   "outputs": [],
   "source": [
    "def contar_hasta(n):\n",
    "    contador = 1\n",
    "    while contador <= n:\n",
    "        yield contador\n",
    "        contador += 1\n",
    "\n",
    "for numero in contar_hasta(3):\n",
    "    print(numero)\n",
    "# Salida:\n",
    "# 1\n",
    "# 2\n",
    "# 3"
   ]
  },
  {
   "cell_type": "markdown",
   "metadata": {},
   "source": [
    "## 7-Closures y decoradores\n",
    "Closures: Funciones que recuerdan el entorno en el que fueron creadas, incluso después de que la función externa haya terminado su ejecución."
   ]
  },
  {
   "cell_type": "code",
   "execution_count": null,
   "metadata": {},
   "outputs": [],
   "source": [
    "def multiplicador(factor):\n",
    "    def multiplicar(numero):\n",
    "        return numero * factor\n",
    "    return multiplicar\n",
    "\n",
    "duplicar = multiplicador(2)\n",
    "resultado = duplicar(5)\n",
    "print(resultado)  # Salida: 10"
   ]
  },
  {
   "cell_type": "markdown",
   "metadata": {},
   "source": [
    "Decoradores: Funciones que modifican el comportamiento de otras funciones."
   ]
  },
  {
   "cell_type": "code",
   "execution_count": null,
   "metadata": {},
   "outputs": [],
   "source": [
    "def decorador(func):\n",
    "    def envoltura():\n",
    "        print(\"Antes de la función\")\n",
    "        func()\n",
    "        print(\"Después de la función\")\n",
    "    return envoltura\n",
    "\n",
    "@decorador\n",
    "def saludar():\n",
    "    print(\"¡Hola!\")\n",
    "\n",
    "saludar()\n",
    "# Salida:\n",
    "# Antes de la función\n",
    "# ¡Hola!\n",
    "# Después de la función"
   ]
  },
  {
   "cell_type": "markdown",
   "metadata": {},
   "source": [
    "#  Aplicación de Funciones en Problemas Reales \n",
    "las funciones en Python constituyen unidades lógicas de un programa y tienen un doble objetivo:\n",
    "\n",
    "Dividir y organizar el código en partes más sencillas.\n",
    "Encapsular el código que se repite a lo largo de un programa para ser reutilizado.\n",
    "Python ya define de serie un conjunto de funciones que podemos utilizar directamente en nuestras aplicaciones. Algunas de ellas las has visto en tutoriales anteriores. Por ejemplo, la función len(), que obtiene el número de elementos de un objeto contenedor como una lista, una tupla, un diccionario o un conjunto. También hemos visto la función print(), que muestra por consola un texto."
   ]
  },
  {
   "cell_type": "markdown",
   "metadata": {},
   "source": [
    "1. Aplicación en estructuras de datos (listas, diccionarios)\n",
    "Las funciones son esenciales cuando se necesita manipular o procesar estructuras de datos como listas y diccionarios. Pueden facilitar la manipulación de elementos, la búsqueda de valores, la agregación de datos."
   ]
  },
  {
   "cell_type": "code",
   "execution_count": 2,
   "metadata": {},
   "outputs": [
    {
     "name": "stdout",
     "output_type": "stream",
     "text": [
      "[2, 4, 6, 8, 10]\n"
     ]
    }
   ],
   "source": [
    "def filtrar_pares(lista):\n",
    "    return [num for num in lista if num % 2 == 0]\n",
    "\n",
    "numeros = [1, 2, 3, 4, 5, 6, 7, 8, 9, 10]\n",
    "pares = filtrar_pares(numeros)\n",
    "print(pares)  # Salida: [2, 4, 6, 8, 10]"
   ]
  },
  {
   "cell_type": "markdown",
   "metadata": {},
   "source": [
    "2. Uso de funciones en procesamiento de datos\n",
    "\n",
    "Las funciones son clave para procesar grandes cantidades de datos de manera eficiente, realizando tareas como la transformación, agregación, limpieza, y análisis de los datos."
   ]
  },
  {
   "cell_type": "code",
   "execution_count": null,
   "metadata": {},
   "outputs": [],
   "source": [
    "def calcular_media(datos):\n",
    "    return sum(datos) / len(datos)\n",
    "\n",
    "datos = [10, 20, 30, 40, 50]\n",
    "media = calcular_media(datos)\n",
    "print(media)  # Salida: 30.0"
   ]
  },
  {
   "cell_type": "markdown",
   "metadata": {},
   "source": [
    "3. Optimización del rendimiento con funciones\n",
    "\n",
    "Las funciones permiten optimizar el rendimiento de un programa mediante la reutilización del código y la encapsulación de operaciones complejas. Además, se pueden aplicar técnicas de optimización en funciones específicas, como el uso de la memorización o el ajuste de algoritmos."
   ]
  },
  {
   "cell_type": "code",
   "execution_count": 3,
   "metadata": {},
   "outputs": [
    {
     "name": "stdout",
     "output_type": "stream",
     "text": [
      "55\n"
     ]
    }
   ],
   "source": [
    "def fibonacci(n, memo={}):\n",
    "    if n in memo:\n",
    "        return memo[n]\n",
    "    if n <= 1:\n",
    "        return n\n",
    "    memo[n] = fibonacci(n-1, memo) + fibonacci(n-2, memo)\n",
    "    return memo[n]\n",
    "\n",
    "print(fibonacci(10))  # Salida: 55"
   ]
  },
  {
   "cell_type": "markdown",
   "metadata": {},
   "source": [
    "4. Comparación entre funciones definidas por el usuario y funciones integradas\n",
    "\n",
    "Las funciones integradas en Python, como len(), sum(), y otras, están altamente optimizadas y son generalmente más rápidas que las funciones definidas por el usuario, especialmente en tareas simples. Sin embargo, las funciones definidas por el usuario son más flexibles y permiten crear soluciones personalizadas para necesidades específicas."
   ]
  },
  {
   "cell_type": "code",
   "execution_count": null,
   "metadata": {},
   "outputs": [],
   "source": [
    "# Función integrada\n",
    "lista = [1, 2, 3, 4, 5]\n",
    "print(len(lista))  # Salida: 5\n",
    "\n",
    "# Función definida por el usuario\n",
    "def contar_elementos(lista):\n",
    "    contador = 0\n",
    "    for _ in lista:\n",
    "        contador += 1\n",
    "    return contador\n",
    "\n",
    "print(contar_elementos(lista))  # Salida: 5"
   ]
  },
  {
   "cell_type": "markdown",
   "metadata": {},
   "source": [
    "Conclusiones "
   ]
  }
 ],
 "metadata": {
  "kernelspec": {
   "display_name": "Python 3",
   "language": "python",
   "name": "python3"
  },
  "language_info": {
   "codemirror_mode": {
    "name": "ipython",
    "version": 3
   },
   "file_extension": ".py",
   "mimetype": "text/x-python",
   "name": "python",
   "nbconvert_exporter": "python",
   "pygments_lexer": "ipython3",
   "version": "3.13.1"
  }
 },
 "nbformat": 4,
 "nbformat_minor": 2
}
