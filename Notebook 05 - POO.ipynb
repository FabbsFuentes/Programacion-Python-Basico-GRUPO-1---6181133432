{
 "cells": [
  {
   "cell_type": "markdown",
   "metadata": {},
   "source": [
    "# 📌 Programación Orientada a Objetos(POO) en Python\n",
    "## Autor: Fabian Alpizar Fuentes\n",
    "### Fecha 2025/02/06\n",
    "\n",
    " ## 1. Introducción a la POO \n",
    "- ¿Qué es la POO? \n",
    "- Características principales \n",
    "- Comparación con la programación estructurada \n",
    "\n",
    "## 2. Conceptos Claves de la POO \n",
    "- Clases y Objetos \n",
    "- Atributos y Métodos \n",
    "- Encapsulamiento \n",
    "- Herencia \n",
    "- Polimorfismo \n",
    "\n",
    "## 3. Ejemplos Prácticos de cada Concepto \n",
    "- Definir una clase simple \n",
    "- Crear y manipular objetos \n",
    "- Aplicar herencia y polimorfismo \n",
    "\n",
    "## 4. Desarrollo de un Proyecto Aplicado \n",
    "- Descripción del proyecto \n",
    "- Implementación paso a paso \n",
    "\n",
    "--- \n",
    "\n",
    "## 🟢 1. Introducción a la POO \n",
    "La **Programación Orientada a Objetos (POO)** es un paradigma de programación basado en la idea de modelar entidades del mundo real a través de **objetos**. \n",
    "\n",
    "### ✅ Características clave de la POO: \n",
    "- **Abstracción:** Modela objetos del mundo real en código. \n",
    "- **Encapsulamiento:** Protege los datos y métodos dentro de una clase. \n",
    "- **Herencia:** Permite reutilizar código mediante la relación padre-hijo. \n",
    "- **Polimorfismo:** Usa el mismo método con diferentes implementaciones. \n",
    "\n",
    "### 📌 Diferencia entre programación estructurada y POO: \n",
    "\n",
    "| Característica | Programación Estructurada | Programación Orientada a Objetos | \n",
    "|---------------------|------------------------|--------------------------------| \n",
    "| **Organización** | Basada en funciones | Basada en clases y objetos | \n",
    "| **Reutilización** | Baja | Alta | \n",
    "| **Mantenimiento** | Más complejo | Más modular y escalable | "
   ]
  },
  {
   "cell_type": "code",
   "execution_count": null,
   "metadata": {},
   "outputs": [
    {
     "ename": "IndentationError",
     "evalue": "expected an indented block after function definition on line 13 (1721680942.py, line 15)",
     "output_type": "error",
     "traceback": [
      "\u001b[1;36m  Cell \u001b[1;32mIn[16], line 15\u001b[1;36m\u001b[0m\n\u001b[1;33m    estudiante = Persona('Emmanuel Alfaro',28)\u001b[0m\n\u001b[1;37m                                              ^\u001b[0m\n\u001b[1;31mIndentationError\u001b[0m\u001b[1;31m:\u001b[0m expected an indented block after function definition on line 13\n"
     ]
    }
   ],
   "source": [
    "\n",
    "#Como crear una clase\n",
    "class Persona:\n",
    "    def __init__(self,name,age):\n",
    "        self.nombre = name\n",
    "        self.edad = age\n",
    "        self.vivo = True\n",
    "\n",
    "    def saludar(self): \n",
    "        if self.vivo: True\n",
    "        print(f\"Holaa,mi nombre es {self.nombre} y tengo {self.edad} años\")\n",
    "        if self.vivo(False):\n",
    "            print(\"Este objeto no puede interactuar por que esta declarado muerto\")\n",
    "    def imprimir_materia(self):\n",
    "\n",
    "estudiante = Persona('Emmanuel Alfaro',28 )\n",
    "estudiante2 = Persona('Mariana Villalobos', 25)\n",
    "profesor = Persona('Andrés Mena',33)\n",
    "\n",
    "\n",
    "print (f'El objetos {id(estudiante)} tiene el atributo nombre como {estudiante.nombre}')\n",
    "print (f'El objetos {id(estudiante2)} tiene el atributo nombre como {estudiante2.nombre}')\n",
    "print (f'El objetos {id(profesor)} tiene el atributo nombre como {profesor.nombre}')\n",
    "\n",
    "estudiante.saludar()\n"
   ]
  },
  {
   "cell_type": "code",
   "execution_count": null,
   "metadata": {},
   "outputs": [],
   "source": [
    "6/2/2025 18:57 • \n",
    "class Persona:\n",
    "    def __init__(self):\n",
    "        self.nombre = input('Ingrese su nombre Porfavor: ')\n",
    "        self.edad = int(input('Ingrese su edad: '))\n",
    "\n",
    "\n",
    "estudiante = Persona()\n",
    "estudiante2 = Persona()\n",
    "profesor = Persona()\n",
    "\n",
    "\n",
    "print (f'El objetos {id(estudiante)} tiene el atributo nombre como {estudiante.nombre}')\n",
    "print (f'El objetos {id(estudiante2)} tiene el atributo nombre como {estudiante2.nombre}')\n",
    "print (f'El objetos {id(profesor)} tiene el atributo nombre como {profesor.nombre}')"
   ]
  },
  {
   "cell_type": "code",
   "execution_count": null,
   "metadata": {},
   "outputs": [
    {
     "name": "stdout",
     "output_type": "stream",
     "text": [
      "Toyota\n",
      "Hyundai\n"
     ]
    }
   ],
   "source": [
    "class carro:\n",
    "    def __init__(self,num_matricula,modelo,marca):\n",
    "        self.matricula = num_matricula\n",
    "        self.modelo = modelo\n",
    "        self.marca = marca\n",
    "        self.encendido = True\n",
    "        self.fallas = []\n",
    "    def reporte_fallas(self):\n",
    "        self.fallas.append(input(\"Ingrese las fallas de su carro: \"))\n",
    "    def reporte_estado(self)\n",
    "        print(f\"el carro {self.matricula},marca: {self.marca}\")\n",
    "        for elemento in self.fallas:\n",
    "            print(elemento)\n",
    "    \n",
    "mi_carro = carro (\"123ABC\",2017,\"Toyota\")\n",
    "carro_trabajo = carro (\"321123\",2025,\"Hyundai\")\n",
    "\n",
    "print(mi_carro.marca)\n",
    "print(carro_trabajo.marca)"
   ]
  }
 ],
 "metadata": {
  "kernelspec": {
   "display_name": "Python 3",
   "language": "python",
   "name": "python3"
  },
  "language_info": {
   "codemirror_mode": {
    "name": "ipython",
    "version": 3
   },
   "file_extension": ".py",
   "mimetype": "text/x-python",
   "name": "python",
   "nbconvert_exporter": "python",
   "pygments_lexer": "ipython3",
   "version": "3.13.1"
  }
 },
 "nbformat": 4,
 "nbformat_minor": 2
}
